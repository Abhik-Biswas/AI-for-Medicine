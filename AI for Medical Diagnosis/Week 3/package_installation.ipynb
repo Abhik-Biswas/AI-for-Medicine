{
 "cells": [
  {
   "cell_type": "code",
   "execution_count": 3,
   "id": "8e656bdb",
   "metadata": {},
   "outputs": [
    {
     "name": "stdout",
     "output_type": "stream",
     "text": [
      "Collecting nibabel\n",
      "  Downloading nibabel-4.0.2-py3-none-any.whl (3.3 MB)\n",
      "     ---------------------------------------- 3.3/3.3 MB 9.3 MB/s eta 0:00:00\n",
      "Requirement already satisfied: setuptools in c:\\users\\biswa\\anaconda3\\lib\\site-packages (from nibabel) (52.0.0.post20210125)\n",
      "Requirement already satisfied: numpy>=1.17 in c:\\users\\biswa\\anaconda3\\lib\\site-packages (from nibabel) (1.22.0)\n",
      "Requirement already satisfied: packaging>=17.0 in c:\\users\\biswa\\anaconda3\\lib\\site-packages (from nibabel) (20.9)\n",
      "Requirement already satisfied: pyparsing>=2.0.2 in c:\\users\\biswa\\anaconda3\\lib\\site-packages (from packaging>=17.0->nibabel) (2.4.7)\n",
      "Installing collected packages: nibabel\n",
      "Successfully installed nibabel-4.0.2\n"
     ]
    }
   ],
   "source": [
    "!pip install nibabel"
   ]
  },
  {
   "cell_type": "code",
   "execution_count": 4,
   "id": "490094ee",
   "metadata": {
    "scrolled": true
   },
   "outputs": [
    {
     "name": "stdout",
     "output_type": "stream",
     "text": [
      "Collecting itk\n",
      "  Downloading itk-5.2.1.post1-cp38-cp38-win_amd64.whl (8.3 kB)\n",
      "Collecting itk-core==5.2.1.post1\n",
      "  Downloading itk_core-5.2.1.post1-cp38-cp38-win_amd64.whl (33.6 MB)\n",
      "     ---------------------------------------- 33.6/33.6 MB 8.8 MB/s eta 0:00:00\n",
      "Requirement already satisfied: numpy in c:\\users\\biswa\\anaconda3\\lib\\site-packages (from itk) (1.22.0)\n",
      "Collecting itk-registration==5.2.1.post1\n",
      "  Downloading itk_registration-5.2.1.post1-cp38-cp38-win_amd64.whl (6.3 MB)\n",
      "     ---------------------------------------- 6.3/6.3 MB 10.0 MB/s eta 0:00:00\n",
      "Collecting itk-segmentation==5.2.1.post1\n",
      "  Downloading itk_segmentation-5.2.1.post1-cp38-cp38-win_amd64.whl (5.2 MB)\n",
      "     ---------------------------------------- 5.2/5.2 MB 10.1 MB/s eta 0:00:00\n",
      "Collecting itk-numerics==5.2.1.post1\n",
      "  Downloading itk_numerics-5.2.1.post1-cp38-cp38-win_amd64.whl (18.7 MB)\n",
      "     ---------------------------------------- 18.7/18.7 MB 9.8 MB/s eta 0:00:00\n",
      "Collecting itk-filtering==5.2.1.post1\n",
      "  Downloading itk_filtering-5.2.1.post1-cp38-cp38-win_amd64.whl (32.0 MB)\n",
      "     ---------------------------------------- 32.0/32.0 MB 9.1 MB/s eta 0:00:00\n",
      "Collecting itk-io==5.2.1.post1\n",
      "  Downloading itk_io-5.2.1.post1-cp38-cp38-win_amd64.whl (5.8 MB)\n",
      "     ---------------------------------------- 5.8/5.8 MB 9.8 MB/s eta 0:00:00\n",
      "Installing collected packages: itk-core, itk-numerics, itk-io, itk-filtering, itk-segmentation, itk-registration, itk\n",
      "Successfully installed itk-5.2.1.post1 itk-core-5.2.1.post1 itk-filtering-5.2.1.post1 itk-io-5.2.1.post1 itk-numerics-5.2.1.post1 itk-registration-5.2.1.post1 itk-segmentation-5.2.1.post1\n"
     ]
    }
   ],
   "source": [
    "!pip install itk"
   ]
  },
  {
   "cell_type": "code",
   "execution_count": 5,
   "id": "7fdff8e9",
   "metadata": {},
   "outputs": [
    {
     "name": "stdout",
     "output_type": "stream",
     "text": [
      "Collecting itkwidgets\n",
      "  Downloading itkwidgets-0.32.3-py2.py3-none-any.whl (3.4 MB)\n",
      "     ---------------------------------------- 3.4/3.4 MB 10.4 MB/s eta 0:00:00\n",
      "Requirement already satisfied: six in c:\\users\\biswa\\anaconda3\\lib\\site-packages (from itkwidgets) (1.16.0)\n",
      "Collecting zstandard\n",
      "  Downloading zstandard-0.18.0-cp38-cp38-win_amd64.whl (611 kB)\n",
      "     -------------------------------------- 611.2/611.2 kB 4.8 MB/s eta 0:00:00\n",
      "Requirement already satisfied: matplotlib in c:\\users\\biswa\\anaconda3\\lib\\site-packages (from itkwidgets) (3.3.4)\n",
      "Requirement already satisfied: itk-filtering<5.3,>=5.2.0.post2 in c:\\users\\biswa\\anaconda3\\lib\\site-packages (from itkwidgets) (5.2.1.post1)\n",
      "Collecting itk-meshtopolydata==0.8.1\n",
      "  Downloading itk_meshtopolydata-0.8.1-cp38-cp38-win_amd64.whl (371 kB)\n",
      "     ------------------------------------- 371.4/371.4 kB 11.7 MB/s eta 0:00:00\n",
      "Requirement already satisfied: ipywidgets>=7.5.1 in c:\\users\\biswa\\anaconda3\\lib\\site-packages (from itkwidgets) (7.6.3)\n",
      "Collecting colorcet\n",
      "  Downloading colorcet-3.0.1-py2.py3-none-any.whl (1.7 MB)\n",
      "     ---------------------------------------- 1.7/1.7 MB 11.7 MB/s eta 0:00:00\n",
      "Requirement already satisfied: itk-core<5.3,>=5.2.0.post2 in c:\\users\\biswa\\anaconda3\\lib\\site-packages (from itkwidgets) (5.2.1.post1)\n",
      "Collecting ipympl>=0.4.1\n",
      "  Downloading ipympl-0.9.2-py2.py3-none-any.whl (510 kB)\n",
      "     -------------------------------------- 510.3/510.3 kB 7.9 MB/s eta 0:00:00\n",
      "Collecting ipydatawidgets>=4.0.1\n",
      "  Downloading ipydatawidgets-4.3.2-py2.py3-none-any.whl (271 kB)\n",
      "     -------------------------------------- 271.6/271.6 kB 8.2 MB/s eta 0:00:00\n",
      "Requirement already satisfied: numpy in c:\\users\\biswa\\anaconda3\\lib\\site-packages (from itkwidgets) (1.22.0)\n",
      "Requirement already satisfied: itk-numerics<5.3,>=5.2.0.post2 in c:\\users\\biswa\\anaconda3\\lib\\site-packages (from itkwidgets) (5.2.1.post1)\n",
      "Collecting traittypes>=0.2.0\n",
      "  Downloading traittypes-0.2.1-py2.py3-none-any.whl (8.6 kB)\n",
      "Requirement already satisfied: pillow in c:\\users\\biswa\\anaconda3\\lib\\site-packages (from ipympl>=0.4.1->itkwidgets) (8.2.0)\n",
      "Collecting matplotlib\n",
      "  Downloading matplotlib-3.6.0-cp38-cp38-win_amd64.whl (7.2 MB)\n",
      "     ---------------------------------------- 7.2/7.2 MB 11.3 MB/s eta 0:00:00\n",
      "Requirement already satisfied: ipython<9 in c:\\users\\biswa\\anaconda3\\lib\\site-packages (from ipympl>=0.4.1->itkwidgets) (7.22.0)\n",
      "Requirement already satisfied: ipython-genutils in c:\\users\\biswa\\anaconda3\\lib\\site-packages (from ipympl>=0.4.1->itkwidgets) (0.2.0)\n",
      "Requirement already satisfied: traitlets<6 in c:\\users\\biswa\\anaconda3\\lib\\site-packages (from ipympl>=0.4.1->itkwidgets) (5.0.5)\n",
      "Requirement already satisfied: ipykernel>=4.5.1 in c:\\users\\biswa\\anaconda3\\lib\\site-packages (from ipywidgets>=7.5.1->itkwidgets) (5.3.4)\n",
      "Requirement already satisfied: nbformat>=4.2.0 in c:\\users\\biswa\\anaconda3\\lib\\site-packages (from ipywidgets>=7.5.1->itkwidgets) (5.1.3)\n",
      "Requirement already satisfied: widgetsnbextension~=3.5.0 in c:\\users\\biswa\\anaconda3\\lib\\site-packages (from ipywidgets>=7.5.1->itkwidgets) (3.5.1)\n",
      "Requirement already satisfied: jupyterlab-widgets>=1.0.0 in c:\\users\\biswa\\anaconda3\\lib\\site-packages (from ipywidgets>=7.5.1->itkwidgets) (1.0.0)\n",
      "Requirement already satisfied: packaging>=20.0 in c:\\users\\biswa\\anaconda3\\lib\\site-packages (from matplotlib->itkwidgets) (20.9)\n",
      "Collecting fonttools>=4.22.0\n",
      "  Downloading fonttools-4.37.4-py3-none-any.whl (960 kB)\n",
      "     ------------------------------------- 960.8/960.8 kB 10.1 MB/s eta 0:00:00\n",
      "Requirement already satisfied: python-dateutil>=2.7 in c:\\users\\biswa\\anaconda3\\lib\\site-packages (from matplotlib->itkwidgets) (2.8.2)\n",
      "Collecting contourpy>=1.0.1\n",
      "  Downloading contourpy-1.0.5-cp38-cp38-win_amd64.whl (164 kB)\n",
      "     -------------------------------------- 164.0/164.0 kB 9.6 MB/s eta 0:00:00\n",
      "Requirement already satisfied: kiwisolver>=1.0.1 in c:\\users\\biswa\\anaconda3\\lib\\site-packages (from matplotlib->itkwidgets) (1.3.1)\n",
      "Requirement already satisfied: pyparsing>=2.2.1 in c:\\users\\biswa\\anaconda3\\lib\\site-packages (from matplotlib->itkwidgets) (2.4.7)\n",
      "Requirement already satisfied: cycler>=0.10 in c:\\users\\biswa\\anaconda3\\lib\\site-packages (from matplotlib->itkwidgets) (0.10.0)\n",
      "Collecting pyct>=0.4.4\n",
      "  Downloading pyct-0.4.8-py2.py3-none-any.whl (15 kB)\n",
      "Requirement already satisfied: jupyter-client in c:\\users\\biswa\\anaconda3\\lib\\site-packages (from ipykernel>=4.5.1->ipywidgets>=7.5.1->itkwidgets) (6.1.12)\n",
      "Requirement already satisfied: tornado>=4.2 in c:\\users\\biswa\\anaconda3\\lib\\site-packages (from ipykernel>=4.5.1->ipywidgets>=7.5.1->itkwidgets) (6.1)\n",
      "Requirement already satisfied: colorama in c:\\users\\biswa\\anaconda3\\lib\\site-packages (from ipython<9->ipympl>=0.4.1->itkwidgets) (0.4.4)\n",
      "Requirement already satisfied: pickleshare in c:\\users\\biswa\\anaconda3\\lib\\site-packages (from ipython<9->ipympl>=0.4.1->itkwidgets) (0.7.5)\n",
      "Requirement already satisfied: decorator in c:\\users\\biswa\\anaconda3\\lib\\site-packages (from ipython<9->ipympl>=0.4.1->itkwidgets) (5.0.9)\n",
      "Requirement already satisfied: jedi>=0.16 in c:\\users\\biswa\\anaconda3\\lib\\site-packages (from ipython<9->ipympl>=0.4.1->itkwidgets) (0.17.2)\n",
      "Requirement already satisfied: setuptools>=18.5 in c:\\users\\biswa\\anaconda3\\lib\\site-packages (from ipython<9->ipympl>=0.4.1->itkwidgets) (52.0.0.post20210125)\n",
      "Requirement already satisfied: pygments in c:\\users\\biswa\\anaconda3\\lib\\site-packages (from ipython<9->ipympl>=0.4.1->itkwidgets) (2.8.1)\n",
      "Requirement already satisfied: prompt-toolkit!=3.0.0,!=3.0.1,<3.1.0,>=2.0.0 in c:\\users\\biswa\\anaconda3\\lib\\site-packages (from ipython<9->ipympl>=0.4.1->itkwidgets) (3.0.17)\n",
      "Requirement already satisfied: backcall in c:\\users\\biswa\\anaconda3\\lib\\site-packages (from ipython<9->ipympl>=0.4.1->itkwidgets) (0.2.0)\n",
      "Requirement already satisfied: jupyter-core in c:\\users\\biswa\\anaconda3\\lib\\site-packages (from nbformat>=4.2.0->ipywidgets>=7.5.1->itkwidgets) (4.7.1)\n",
      "Requirement already satisfied: jsonschema!=2.5.0,>=2.4 in c:\\users\\biswa\\anaconda3\\lib\\site-packages (from nbformat>=4.2.0->ipywidgets>=7.5.1->itkwidgets) (3.2.0)\n",
      "Collecting param>=1.7.0\n",
      "  Downloading param-1.12.2-py2.py3-none-any.whl (86 kB)\n",
      "     ---------------------------------------- 86.8/86.8 kB ? eta 0:00:00\n",
      "Requirement already satisfied: notebook>=4.4.1 in c:\\users\\biswa\\anaconda3\\lib\\site-packages (from widgetsnbextension~=3.5.0->ipywidgets>=7.5.1->itkwidgets) (6.3.0)\n",
      "Requirement already satisfied: parso<0.8.0,>=0.7.0 in c:\\users\\biswa\\anaconda3\\lib\\site-packages (from jedi>=0.16->ipython<9->ipympl>=0.4.1->itkwidgets) (0.7.0)\n",
      "Requirement already satisfied: pyrsistent>=0.14.0 in c:\\users\\biswa\\anaconda3\\lib\\site-packages (from jsonschema!=2.5.0,>=2.4->nbformat>=4.2.0->ipywidgets>=7.5.1->itkwidgets) (0.17.3)\n",
      "Requirement already satisfied: attrs>=17.4.0 in c:\\users\\biswa\\anaconda3\\lib\\site-packages (from jsonschema!=2.5.0,>=2.4->nbformat>=4.2.0->ipywidgets>=7.5.1->itkwidgets) (20.3.0)\n",
      "Requirement already satisfied: jinja2 in c:\\users\\biswa\\anaconda3\\lib\\site-packages (from notebook>=4.4.1->widgetsnbextension~=3.5.0->ipywidgets>=7.5.1->itkwidgets) (3.1.2)\n",
      "Requirement already satisfied: Send2Trash>=1.5.0 in c:\\users\\biswa\\anaconda3\\lib\\site-packages (from notebook>=4.4.1->widgetsnbextension~=3.5.0->ipywidgets>=7.5.1->itkwidgets) (1.5.0)\n",
      "Requirement already satisfied: terminado>=0.8.3 in c:\\users\\biswa\\anaconda3\\lib\\site-packages (from notebook>=4.4.1->widgetsnbextension~=3.5.0->ipywidgets>=7.5.1->itkwidgets) (0.9.4)\n",
      "Requirement already satisfied: pyzmq>=17 in c:\\users\\biswa\\anaconda3\\lib\\site-packages (from notebook>=4.4.1->widgetsnbextension~=3.5.0->ipywidgets>=7.5.1->itkwidgets) (20.0.0)\n",
      "Requirement already satisfied: argon2-cffi in c:\\users\\biswa\\anaconda3\\lib\\site-packages (from notebook>=4.4.1->widgetsnbextension~=3.5.0->ipywidgets>=7.5.1->itkwidgets) (20.1.0)\n",
      "Requirement already satisfied: prometheus-client in c:\\users\\biswa\\anaconda3\\lib\\site-packages (from notebook>=4.4.1->widgetsnbextension~=3.5.0->ipywidgets>=7.5.1->itkwidgets) (0.10.1)\n",
      "Requirement already satisfied: nbconvert in c:\\users\\biswa\\anaconda3\\lib\\site-packages (from notebook>=4.4.1->widgetsnbextension~=3.5.0->ipywidgets>=7.5.1->itkwidgets) (7.0.0)\n",
      "Requirement already satisfied: pywin32>=1.0 in c:\\users\\biswa\\anaconda3\\lib\\site-packages (from jupyter-core->nbformat>=4.2.0->ipywidgets>=7.5.1->itkwidgets) (227)\n",
      "Requirement already satisfied: wcwidth in c:\\users\\biswa\\anaconda3\\lib\\site-packages (from prompt-toolkit!=3.0.0,!=3.0.1,<3.1.0,>=2.0.0->ipython<9->ipympl>=0.4.1->itkwidgets) (0.2.5)\n",
      "Requirement already satisfied: pywinpty>=0.5 in c:\\users\\biswa\\anaconda3\\lib\\site-packages (from terminado>=0.8.3->notebook>=4.4.1->widgetsnbextension~=3.5.0->ipywidgets>=7.5.1->itkwidgets) (0.5.7)\n",
      "Requirement already satisfied: cffi>=1.0.0 in c:\\users\\biswa\\anaconda3\\lib\\site-packages (from argon2-cffi->notebook>=4.4.1->widgetsnbextension~=3.5.0->ipywidgets>=7.5.1->itkwidgets) (1.14.5)\n",
      "Requirement already satisfied: MarkupSafe>=2.0 in c:\\users\\biswa\\anaconda3\\lib\\site-packages (from jinja2->notebook>=4.4.1->widgetsnbextension~=3.5.0->ipywidgets>=7.5.1->itkwidgets) (2.1.1)\n",
      "Requirement already satisfied: nbclient>=0.5.0 in c:\\users\\biswa\\anaconda3\\lib\\site-packages (from nbconvert->notebook>=4.4.1->widgetsnbextension~=3.5.0->ipywidgets>=7.5.1->itkwidgets) (0.5.3)\n",
      "Requirement already satisfied: mistune<3,>=2.0.3 in c:\\users\\biswa\\anaconda3\\lib\\site-packages (from nbconvert->notebook>=4.4.1->widgetsnbextension~=3.5.0->ipywidgets>=7.5.1->itkwidgets) (2.0.4)\n",
      "Requirement already satisfied: tinycss2 in c:\\users\\biswa\\anaconda3\\lib\\site-packages (from nbconvert->notebook>=4.4.1->widgetsnbextension~=3.5.0->ipywidgets>=7.5.1->itkwidgets) (1.1.1)\n",
      "Requirement already satisfied: lxml in c:\\users\\biswa\\anaconda3\\lib\\site-packages (from nbconvert->notebook>=4.4.1->widgetsnbextension~=3.5.0->ipywidgets>=7.5.1->itkwidgets) (4.6.3)\n",
      "Requirement already satisfied: pandocfilters>=1.4.1 in c:\\users\\biswa\\anaconda3\\lib\\site-packages (from nbconvert->notebook>=4.4.1->widgetsnbextension~=3.5.0->ipywidgets>=7.5.1->itkwidgets) (1.4.3)\n",
      "Requirement already satisfied: beautifulsoup4 in c:\\users\\biswa\\anaconda3\\lib\\site-packages (from nbconvert->notebook>=4.4.1->widgetsnbextension~=3.5.0->ipywidgets>=7.5.1->itkwidgets) (4.9.3)\n",
      "Requirement already satisfied: jupyterlab-pygments in c:\\users\\biswa\\anaconda3\\lib\\site-packages (from nbconvert->notebook>=4.4.1->widgetsnbextension~=3.5.0->ipywidgets>=7.5.1->itkwidgets) (0.1.2)\n",
      "Requirement already satisfied: bleach in c:\\users\\biswa\\anaconda3\\lib\\site-packages (from nbconvert->notebook>=4.4.1->widgetsnbextension~=3.5.0->ipywidgets>=7.5.1->itkwidgets) (3.3.0)\n",
      "Requirement already satisfied: importlib-metadata>=3.6 in c:\\users\\biswa\\anaconda3\\lib\\site-packages (from nbconvert->notebook>=4.4.1->widgetsnbextension~=3.5.0->ipywidgets>=7.5.1->itkwidgets) (4.10.0)\n",
      "Requirement already satisfied: defusedxml in c:\\users\\biswa\\anaconda3\\lib\\site-packages (from nbconvert->notebook>=4.4.1->widgetsnbextension~=3.5.0->ipywidgets>=7.5.1->itkwidgets) (0.7.1)\n",
      "Requirement already satisfied: pycparser in c:\\users\\biswa\\anaconda3\\lib\\site-packages (from cffi>=1.0.0->argon2-cffi->notebook>=4.4.1->widgetsnbextension~=3.5.0->ipywidgets>=7.5.1->itkwidgets) (2.20)\n",
      "Requirement already satisfied: zipp>=0.5 in c:\\users\\biswa\\anaconda3\\lib\\site-packages (from importlib-metadata>=3.6->nbconvert->notebook>=4.4.1->widgetsnbextension~=3.5.0->ipywidgets>=7.5.1->itkwidgets) (3.4.1)\n",
      "Requirement already satisfied: nest-asyncio in c:\\users\\biswa\\anaconda3\\lib\\site-packages (from nbclient>=0.5.0->nbconvert->notebook>=4.4.1->widgetsnbextension~=3.5.0->ipywidgets>=7.5.1->itkwidgets) (1.5.1)\n",
      "Requirement already satisfied: async-generator in c:\\users\\biswa\\anaconda3\\lib\\site-packages (from nbclient>=0.5.0->nbconvert->notebook>=4.4.1->widgetsnbextension~=3.5.0->ipywidgets>=7.5.1->itkwidgets) (1.10)\n",
      "Requirement already satisfied: soupsieve>1.2 in c:\\users\\biswa\\anaconda3\\lib\\site-packages (from beautifulsoup4->nbconvert->notebook>=4.4.1->widgetsnbextension~=3.5.0->ipywidgets>=7.5.1->itkwidgets) (2.2.1)\n",
      "Requirement already satisfied: webencodings in c:\\users\\biswa\\anaconda3\\lib\\site-packages (from bleach->nbconvert->notebook>=4.4.1->widgetsnbextension~=3.5.0->ipywidgets>=7.5.1->itkwidgets) (0.5.1)\n",
      "Installing collected packages: zstandard, param, fonttools, contourpy, traittypes, pyct, matplotlib, itk-meshtopolydata, colorcet, ipympl, ipydatawidgets, itkwidgets\n",
      "  Attempting uninstall: matplotlib\n",
      "    Found existing installation: matplotlib 3.3.4\n",
      "    Uninstalling matplotlib-3.3.4:\n",
      "      Successfully uninstalled matplotlib-3.3.4\n",
      "Successfully installed colorcet-3.0.1 contourpy-1.0.5 fonttools-4.37.4 ipydatawidgets-4.3.2 ipympl-0.9.2 itk-meshtopolydata-0.8.1 itkwidgets-0.32.3 matplotlib-3.6.0 param-1.12.2 pyct-0.4.8 traittypes-0.2.1 zstandard-0.18.0\n"
     ]
    }
   ],
   "source": [
    "!pip install itkwidgets"
   ]
  },
  {
   "cell_type": "code",
   "execution_count": 6,
   "id": "6463a4fe",
   "metadata": {
    "scrolled": true
   },
   "outputs": [
    {
     "name": "stdout",
     "output_type": "stream",
     "text": [
      "Requirement already satisfied: ipywidgets in c:\\users\\biswa\\anaconda3\\lib\\site-packages (7.6.3)\n",
      "Requirement already satisfied: nbformat>=4.2.0 in c:\\users\\biswa\\anaconda3\\lib\\site-packages (from ipywidgets) (5.1.3)\n",
      "Requirement already satisfied: ipython>=4.0.0 in c:\\users\\biswa\\anaconda3\\lib\\site-packages (from ipywidgets) (7.22.0)\n",
      "Requirement already satisfied: jupyterlab-widgets>=1.0.0 in c:\\users\\biswa\\anaconda3\\lib\\site-packages (from ipywidgets) (1.0.0)\n",
      "Requirement already satisfied: ipykernel>=4.5.1 in c:\\users\\biswa\\anaconda3\\lib\\site-packages (from ipywidgets) (5.3.4)\n",
      "Requirement already satisfied: traitlets>=4.3.1 in c:\\users\\biswa\\anaconda3\\lib\\site-packages (from ipywidgets) (5.0.5)\n",
      "Requirement already satisfied: widgetsnbextension~=3.5.0 in c:\\users\\biswa\\anaconda3\\lib\\site-packages (from ipywidgets) (3.5.1)\n",
      "Requirement already satisfied: tornado>=4.2 in c:\\users\\biswa\\anaconda3\\lib\\site-packages (from ipykernel>=4.5.1->ipywidgets) (6.1)\n",
      "Requirement already satisfied: jupyter-client in c:\\users\\biswa\\anaconda3\\lib\\site-packages (from ipykernel>=4.5.1->ipywidgets) (6.1.12)\n",
      "Requirement already satisfied: colorama in c:\\users\\biswa\\anaconda3\\lib\\site-packages (from ipython>=4.0.0->ipywidgets) (0.4.4)\n",
      "Requirement already satisfied: decorator in c:\\users\\biswa\\anaconda3\\lib\\site-packages (from ipython>=4.0.0->ipywidgets) (5.0.9)\n",
      "Requirement already satisfied: prompt-toolkit!=3.0.0,!=3.0.1,<3.1.0,>=2.0.0 in c:\\users\\biswa\\anaconda3\\lib\\site-packages (from ipython>=4.0.0->ipywidgets) (3.0.17)\n",
      "Requirement already satisfied: jedi>=0.16 in c:\\users\\biswa\\anaconda3\\lib\\site-packages (from ipython>=4.0.0->ipywidgets) (0.17.2)\n",
      "Requirement already satisfied: setuptools>=18.5 in c:\\users\\biswa\\anaconda3\\lib\\site-packages (from ipython>=4.0.0->ipywidgets) (52.0.0.post20210125)\n",
      "Requirement already satisfied: backcall in c:\\users\\biswa\\anaconda3\\lib\\site-packages (from ipython>=4.0.0->ipywidgets) (0.2.0)\n",
      "Requirement already satisfied: pygments in c:\\users\\biswa\\anaconda3\\lib\\site-packages (from ipython>=4.0.0->ipywidgets) (2.8.1)\n",
      "Requirement already satisfied: pickleshare in c:\\users\\biswa\\anaconda3\\lib\\site-packages (from ipython>=4.0.0->ipywidgets) (0.7.5)\n",
      "Requirement already satisfied: ipython-genutils in c:\\users\\biswa\\anaconda3\\lib\\site-packages (from nbformat>=4.2.0->ipywidgets) (0.2.0)\n",
      "Requirement already satisfied: jupyter-core in c:\\users\\biswa\\anaconda3\\lib\\site-packages (from nbformat>=4.2.0->ipywidgets) (4.7.1)\n",
      "Requirement already satisfied: jsonschema!=2.5.0,>=2.4 in c:\\users\\biswa\\anaconda3\\lib\\site-packages (from nbformat>=4.2.0->ipywidgets) (3.2.0)\n",
      "Requirement already satisfied: notebook>=4.4.1 in c:\\users\\biswa\\anaconda3\\lib\\site-packages (from widgetsnbextension~=3.5.0->ipywidgets) (6.3.0)\n",
      "Requirement already satisfied: parso<0.8.0,>=0.7.0 in c:\\users\\biswa\\anaconda3\\lib\\site-packages (from jedi>=0.16->ipython>=4.0.0->ipywidgets) (0.7.0)\n",
      "Requirement already satisfied: pyrsistent>=0.14.0 in c:\\users\\biswa\\anaconda3\\lib\\site-packages (from jsonschema!=2.5.0,>=2.4->nbformat>=4.2.0->ipywidgets) (0.17.3)\n",
      "Requirement already satisfied: six>=1.11.0 in c:\\users\\biswa\\anaconda3\\lib\\site-packages (from jsonschema!=2.5.0,>=2.4->nbformat>=4.2.0->ipywidgets) (1.16.0)\n",
      "Requirement already satisfied: attrs>=17.4.0 in c:\\users\\biswa\\anaconda3\\lib\\site-packages (from jsonschema!=2.5.0,>=2.4->nbformat>=4.2.0->ipywidgets) (20.3.0)\n",
      "Requirement already satisfied: jinja2 in c:\\users\\biswa\\anaconda3\\lib\\site-packages (from notebook>=4.4.1->widgetsnbextension~=3.5.0->ipywidgets) (3.1.2)\n",
      "Requirement already satisfied: argon2-cffi in c:\\users\\biswa\\anaconda3\\lib\\site-packages (from notebook>=4.4.1->widgetsnbextension~=3.5.0->ipywidgets) (20.1.0)\n",
      "Requirement already satisfied: Send2Trash>=1.5.0 in c:\\users\\biswa\\anaconda3\\lib\\site-packages (from notebook>=4.4.1->widgetsnbextension~=3.5.0->ipywidgets) (1.5.0)\n",
      "Requirement already satisfied: pyzmq>=17 in c:\\users\\biswa\\anaconda3\\lib\\site-packages (from notebook>=4.4.1->widgetsnbextension~=3.5.0->ipywidgets) (20.0.0)\n",
      "Requirement already satisfied: terminado>=0.8.3 in c:\\users\\biswa\\anaconda3\\lib\\site-packages (from notebook>=4.4.1->widgetsnbextension~=3.5.0->ipywidgets) (0.9.4)\n",
      "Requirement already satisfied: prometheus-client in c:\\users\\biswa\\anaconda3\\lib\\site-packages (from notebook>=4.4.1->widgetsnbextension~=3.5.0->ipywidgets) (0.10.1)\n",
      "Requirement already satisfied: nbconvert in c:\\users\\biswa\\anaconda3\\lib\\site-packages (from notebook>=4.4.1->widgetsnbextension~=3.5.0->ipywidgets) (7.0.0)\n",
      "Requirement already satisfied: python-dateutil>=2.1 in c:\\users\\biswa\\anaconda3\\lib\\site-packages (from jupyter-client->ipykernel>=4.5.1->ipywidgets) (2.8.2)\n",
      "Requirement already satisfied: pywin32>=1.0 in c:\\users\\biswa\\anaconda3\\lib\\site-packages (from jupyter-core->nbformat>=4.2.0->ipywidgets) (227)\n",
      "Requirement already satisfied: wcwidth in c:\\users\\biswa\\anaconda3\\lib\\site-packages (from prompt-toolkit!=3.0.0,!=3.0.1,<3.1.0,>=2.0.0->ipython>=4.0.0->ipywidgets) (0.2.5)\n",
      "Requirement already satisfied: pywinpty>=0.5 in c:\\users\\biswa\\anaconda3\\lib\\site-packages (from terminado>=0.8.3->notebook>=4.4.1->widgetsnbextension~=3.5.0->ipywidgets) (0.5.7)\n",
      "Requirement already satisfied: cffi>=1.0.0 in c:\\users\\biswa\\anaconda3\\lib\\site-packages (from argon2-cffi->notebook>=4.4.1->widgetsnbextension~=3.5.0->ipywidgets) (1.14.5)\n",
      "Requirement already satisfied: MarkupSafe>=2.0 in c:\\users\\biswa\\anaconda3\\lib\\site-packages (from jinja2->notebook>=4.4.1->widgetsnbextension~=3.5.0->ipywidgets) (2.1.1)\n",
      "Requirement already satisfied: nbclient>=0.5.0 in c:\\users\\biswa\\anaconda3\\lib\\site-packages (from nbconvert->notebook>=4.4.1->widgetsnbextension~=3.5.0->ipywidgets) (0.5.3)\n",
      "Requirement already satisfied: beautifulsoup4 in c:\\users\\biswa\\anaconda3\\lib\\site-packages (from nbconvert->notebook>=4.4.1->widgetsnbextension~=3.5.0->ipywidgets) (4.9.3)\n",
      "Requirement already satisfied: tinycss2 in c:\\users\\biswa\\anaconda3\\lib\\site-packages (from nbconvert->notebook>=4.4.1->widgetsnbextension~=3.5.0->ipywidgets) (1.1.1)\n",
      "Requirement already satisfied: pandocfilters>=1.4.1 in c:\\users\\biswa\\anaconda3\\lib\\site-packages (from nbconvert->notebook>=4.4.1->widgetsnbextension~=3.5.0->ipywidgets) (1.4.3)\n",
      "Requirement already satisfied: importlib-metadata>=3.6 in c:\\users\\biswa\\anaconda3\\lib\\site-packages (from nbconvert->notebook>=4.4.1->widgetsnbextension~=3.5.0->ipywidgets) (4.10.0)\n",
      "Requirement already satisfied: defusedxml in c:\\users\\biswa\\anaconda3\\lib\\site-packages (from nbconvert->notebook>=4.4.1->widgetsnbextension~=3.5.0->ipywidgets) (0.7.1)\n",
      "Requirement already satisfied: jupyterlab-pygments in c:\\users\\biswa\\anaconda3\\lib\\site-packages (from nbconvert->notebook>=4.4.1->widgetsnbextension~=3.5.0->ipywidgets) (0.1.2)\n",
      "Requirement already satisfied: mistune<3,>=2.0.3 in c:\\users\\biswa\\anaconda3\\lib\\site-packages (from nbconvert->notebook>=4.4.1->widgetsnbextension~=3.5.0->ipywidgets) (2.0.4)\n",
      "Requirement already satisfied: lxml in c:\\users\\biswa\\anaconda3\\lib\\site-packages (from nbconvert->notebook>=4.4.1->widgetsnbextension~=3.5.0->ipywidgets) (4.6.3)\n",
      "Requirement already satisfied: bleach in c:\\users\\biswa\\anaconda3\\lib\\site-packages (from nbconvert->notebook>=4.4.1->widgetsnbextension~=3.5.0->ipywidgets) (3.3.0)\n",
      "Requirement already satisfied: packaging in c:\\users\\biswa\\anaconda3\\lib\\site-packages (from nbconvert->notebook>=4.4.1->widgetsnbextension~=3.5.0->ipywidgets) (20.9)\n",
      "Requirement already satisfied: pycparser in c:\\users\\biswa\\anaconda3\\lib\\site-packages (from cffi>=1.0.0->argon2-cffi->notebook>=4.4.1->widgetsnbextension~=3.5.0->ipywidgets) (2.20)\n",
      "Requirement already satisfied: zipp>=0.5 in c:\\users\\biswa\\anaconda3\\lib\\site-packages (from importlib-metadata>=3.6->nbconvert->notebook>=4.4.1->widgetsnbextension~=3.5.0->ipywidgets) (3.4.1)\n",
      "Requirement already satisfied: nest-asyncio in c:\\users\\biswa\\anaconda3\\lib\\site-packages (from nbclient>=0.5.0->nbconvert->notebook>=4.4.1->widgetsnbextension~=3.5.0->ipywidgets) (1.5.1)\n",
      "Requirement already satisfied: async-generator in c:\\users\\biswa\\anaconda3\\lib\\site-packages (from nbclient>=0.5.0->nbconvert->notebook>=4.4.1->widgetsnbextension~=3.5.0->ipywidgets) (1.10)\n",
      "Requirement already satisfied: soupsieve>1.2 in c:\\users\\biswa\\anaconda3\\lib\\site-packages (from beautifulsoup4->nbconvert->notebook>=4.4.1->widgetsnbextension~=3.5.0->ipywidgets) (2.2.1)\n",
      "Requirement already satisfied: webencodings in c:\\users\\biswa\\anaconda3\\lib\\site-packages (from bleach->nbconvert->notebook>=4.4.1->widgetsnbextension~=3.5.0->ipywidgets) (0.5.1)\n",
      "Requirement already satisfied: pyparsing>=2.0.2 in c:\\users\\biswa\\anaconda3\\lib\\site-packages (from packaging->nbconvert->notebook>=4.4.1->widgetsnbextension~=3.5.0->ipywidgets) (2.4.7)\n"
     ]
    }
   ],
   "source": [
    "!pip install ipywidgets"
   ]
  },
  {
   "cell_type": "code",
   "execution_count": null,
   "id": "291278ea",
   "metadata": {},
   "outputs": [],
   "source": []
  }
 ],
 "metadata": {
  "kernelspec": {
   "display_name": "Python 3",
   "language": "python",
   "name": "python3"
  },
  "language_info": {
   "codemirror_mode": {
    "name": "ipython",
    "version": 3
   },
   "file_extension": ".py",
   "mimetype": "text/x-python",
   "name": "python",
   "nbconvert_exporter": "python",
   "pygments_lexer": "ipython3",
   "version": "3.8.8"
  }
 },
 "nbformat": 4,
 "nbformat_minor": 5
}
