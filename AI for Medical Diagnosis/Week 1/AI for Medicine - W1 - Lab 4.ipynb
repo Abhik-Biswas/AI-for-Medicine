{
 "cells": [
  {
   "cell_type": "code",
   "execution_count": 1,
   "id": "9f582482",
   "metadata": {},
   "outputs": [],
   "source": [
    "import pandas as pd\n",
    "import numpy as np\n",
    "import matplotlib.pyplot as plt\n",
    "import os\n",
    "import seaborn as sns\n",
    "sns.set()"
   ]
  },
  {
   "cell_type": "code",
   "execution_count": 2,
   "id": "fb0bb6de",
   "metadata": {},
   "outputs": [
    {
     "name": "stdout",
     "output_type": "stream",
     "text": [
      "There are 1000 rows and 16 columns in the training dataframe\n"
     ]
    },
    {
     "data": {
      "text/html": [
       "<div>\n",
       "<style scoped>\n",
       "    .dataframe tbody tr th:only-of-type {\n",
       "        vertical-align: middle;\n",
       "    }\n",
       "\n",
       "    .dataframe tbody tr th {\n",
       "        vertical-align: top;\n",
       "    }\n",
       "\n",
       "    .dataframe thead th {\n",
       "        text-align: right;\n",
       "    }\n",
       "</style>\n",
       "<table border=\"1\" class=\"dataframe\">\n",
       "  <thead>\n",
       "    <tr style=\"text-align: right;\">\n",
       "      <th></th>\n",
       "      <th>Image</th>\n",
       "      <th>Atelectasis</th>\n",
       "      <th>Cardiomegaly</th>\n",
       "      <th>Consolidation</th>\n",
       "      <th>Edema</th>\n",
       "      <th>Effusion</th>\n",
       "      <th>Emphysema</th>\n",
       "      <th>Fibrosis</th>\n",
       "      <th>Hernia</th>\n",
       "      <th>Infiltration</th>\n",
       "      <th>Mass</th>\n",
       "      <th>Nodule</th>\n",
       "      <th>PatientId</th>\n",
       "      <th>Pleural_Thickening</th>\n",
       "      <th>Pneumonia</th>\n",
       "      <th>Pneumothorax</th>\n",
       "    </tr>\n",
       "  </thead>\n",
       "  <tbody>\n",
       "    <tr>\n",
       "      <th>0</th>\n",
       "      <td>00008270_015.png</td>\n",
       "      <td>0</td>\n",
       "      <td>0</td>\n",
       "      <td>0</td>\n",
       "      <td>0</td>\n",
       "      <td>0</td>\n",
       "      <td>0</td>\n",
       "      <td>0</td>\n",
       "      <td>0</td>\n",
       "      <td>0</td>\n",
       "      <td>0</td>\n",
       "      <td>0</td>\n",
       "      <td>8270</td>\n",
       "      <td>0</td>\n",
       "      <td>0</td>\n",
       "      <td>0</td>\n",
       "    </tr>\n",
       "    <tr>\n",
       "      <th>1</th>\n",
       "      <td>00029855_001.png</td>\n",
       "      <td>1</td>\n",
       "      <td>0</td>\n",
       "      <td>0</td>\n",
       "      <td>0</td>\n",
       "      <td>1</td>\n",
       "      <td>0</td>\n",
       "      <td>0</td>\n",
       "      <td>0</td>\n",
       "      <td>1</td>\n",
       "      <td>0</td>\n",
       "      <td>0</td>\n",
       "      <td>29855</td>\n",
       "      <td>0</td>\n",
       "      <td>0</td>\n",
       "      <td>0</td>\n",
       "    </tr>\n",
       "    <tr>\n",
       "      <th>2</th>\n",
       "      <td>00001297_000.png</td>\n",
       "      <td>0</td>\n",
       "      <td>0</td>\n",
       "      <td>0</td>\n",
       "      <td>0</td>\n",
       "      <td>0</td>\n",
       "      <td>0</td>\n",
       "      <td>0</td>\n",
       "      <td>0</td>\n",
       "      <td>0</td>\n",
       "      <td>0</td>\n",
       "      <td>0</td>\n",
       "      <td>1297</td>\n",
       "      <td>1</td>\n",
       "      <td>0</td>\n",
       "      <td>0</td>\n",
       "    </tr>\n",
       "    <tr>\n",
       "      <th>3</th>\n",
       "      <td>00012359_002.png</td>\n",
       "      <td>0</td>\n",
       "      <td>0</td>\n",
       "      <td>0</td>\n",
       "      <td>0</td>\n",
       "      <td>0</td>\n",
       "      <td>0</td>\n",
       "      <td>0</td>\n",
       "      <td>0</td>\n",
       "      <td>0</td>\n",
       "      <td>0</td>\n",
       "      <td>0</td>\n",
       "      <td>12359</td>\n",
       "      <td>0</td>\n",
       "      <td>0</td>\n",
       "      <td>0</td>\n",
       "    </tr>\n",
       "    <tr>\n",
       "      <th>4</th>\n",
       "      <td>00017951_001.png</td>\n",
       "      <td>0</td>\n",
       "      <td>0</td>\n",
       "      <td>0</td>\n",
       "      <td>0</td>\n",
       "      <td>0</td>\n",
       "      <td>0</td>\n",
       "      <td>0</td>\n",
       "      <td>0</td>\n",
       "      <td>1</td>\n",
       "      <td>0</td>\n",
       "      <td>0</td>\n",
       "      <td>17951</td>\n",
       "      <td>0</td>\n",
       "      <td>0</td>\n",
       "      <td>0</td>\n",
       "    </tr>\n",
       "  </tbody>\n",
       "</table>\n",
       "</div>"
      ],
      "text/plain": [
       "              Image  Atelectasis  Cardiomegaly  Consolidation  Edema  \\\n",
       "0  00008270_015.png            0             0              0      0   \n",
       "1  00029855_001.png            1             0              0      0   \n",
       "2  00001297_000.png            0             0              0      0   \n",
       "3  00012359_002.png            0             0              0      0   \n",
       "4  00017951_001.png            0             0              0      0   \n",
       "\n",
       "   Effusion  Emphysema  Fibrosis  Hernia  Infiltration  Mass  Nodule  \\\n",
       "0         0          0         0       0             0     0       0   \n",
       "1         1          0         0       0             1     0       0   \n",
       "2         0          0         0       0             0     0       0   \n",
       "3         0          0         0       0             0     0       0   \n",
       "4         0          0         0       0             1     0       0   \n",
       "\n",
       "   PatientId  Pleural_Thickening  Pneumonia  Pneumothorax  \n",
       "0       8270                   0          0             0  \n",
       "1      29855                   0          0             0  \n",
       "2       1297                   1          0             0  \n",
       "3      12359                   0          0             0  \n",
       "4      17951                   0          0             0  "
      ]
     },
     "execution_count": 2,
     "metadata": {},
     "output_type": "execute_result"
    }
   ],
   "source": [
    "train_df = pd.read_csv(\"train-small.csv\")\n",
    "# Print first 5 rows\n",
    "print(f'There are {train_df.shape[0]} rows and {train_df.shape[1]} columns in the training dataframe')\n",
    "train_df.head()"
   ]
  },
  {
   "cell_type": "code",
   "execution_count": 3,
   "id": "09c6893f",
   "metadata": {},
   "outputs": [
    {
     "name": "stdout",
     "output_type": "stream",
     "text": [
      "There are 109 rows and 16 columns in the validation dataframe.\n"
     ]
    }
   ],
   "source": [
    "valid_df = pd.read_csv(\"valid-small.csv\")\n",
    "print(f'There are {valid_df.shape[0]} rows and {valid_df.shape[1]} columns in the validation dataframe.')"
   ]
  },
  {
   "cell_type": "code",
   "execution_count": 4,
   "id": "7c08e049",
   "metadata": {},
   "outputs": [],
   "source": [
    "ids_train = train_df.PatientId.values\n",
    "ids_valid = valid_df.PatientId.values"
   ]
  },
  {
   "cell_type": "code",
   "execution_count": 5,
   "id": "f348b2f6",
   "metadata": {},
   "outputs": [],
   "source": [
    "ids_train_set = set(ids_train)\n",
    "ids_valid_set = set(ids_valid)"
   ]
  },
  {
   "cell_type": "code",
   "execution_count": 7,
   "id": "bc0795c0",
   "metadata": {},
   "outputs": [
    {
     "name": "stdout",
     "output_type": "stream",
     "text": [
      "There are 11 patients common in both the training and the validation sets.\n",
      "They are {20290, 27618, 9925, 10888, 22764, 19981, 18253, 4461, 28208, 8760, 7482}\n"
     ]
    }
   ],
   "source": [
    "intersection = ids_train_set.intersection(ids_valid_set)\n",
    "\n",
    "print(f\"There are {len(intersection)} patients common in both the training and the validation sets.\")\n",
    "print(f\"They are {intersection}\")"
   ]
  },
  {
   "cell_type": "code",
   "execution_count": 8,
   "id": "c6e9e3fb",
   "metadata": {},
   "outputs": [
    {
     "name": "stdout",
     "output_type": "stream",
     "text": [
      "These are the indices of overlapping patients in the training set: \n",
      "[306, 186, 797, 98, 408, 917, 327, 913, 10, 51, 276]\n",
      "These are the indices of overlapping patients in the validation set: \n",
      "[104, 88, 65, 13, 2, 41, 56, 70, 26, 75, 20, 52, 55]\n"
     ]
    }
   ],
   "source": [
    "n_overlap = len(intersection)\n",
    "patient_overlap = list(intersection)\n",
    "train_overlap_idxs = []\n",
    "valid_overlap_idxs = []\n",
    "for idx in range(n_overlap):\n",
    "    train_overlap_idxs.extend(train_df.index[train_df['PatientId'] == patient_overlap[idx]].tolist())\n",
    "    valid_overlap_idxs.extend(valid_df.index[valid_df['PatientId'] == patient_overlap[idx]].tolist())\n",
    "    \n",
    "print(f'These are the indices of overlapping patients in the training set: ')\n",
    "print(f'{train_overlap_idxs}')\n",
    "print(f'These are the indices of overlapping patients in the validation set: ')\n",
    "print(f'{valid_overlap_idxs}')"
   ]
  },
  {
   "cell_type": "code",
   "execution_count": 9,
   "id": "d2efcd54",
   "metadata": {},
   "outputs": [],
   "source": [
    "valid_df.drop(valid_overlap_idxs, inplace=True, axis=0)"
   ]
  },
  {
   "cell_type": "markdown",
   "id": "15a4e0e7",
   "metadata": {},
   "source": [
    "### 1.5 Sanity Check \n",
    "\n",
    "Check that everything worked as planned by rerunning the patient ID comparison between train and validation sets. When you run the next two cells you should see that there are now fewer records in the validation set and that the overlap problem has been removed!"
   ]
  },
  {
   "cell_type": "code",
   "execution_count": 10,
   "id": "022b3cba",
   "metadata": {},
   "outputs": [
    {
     "name": "stdout",
     "output_type": "stream",
     "text": [
      "There are 86 unique Patient IDs in the training set\n"
     ]
    }
   ],
   "source": [
    "# Extract patient id's for the validation set\n",
    "ids_valid = valid_df.PatientId.values\n",
    "# Create a \"set\" datastructure of the validation set id's to identify unique id's\n",
    "ids_valid_set = set(ids_valid)\n",
    "print(f'There are {len(ids_valid_set)} unique Patient IDs in the training set')"
   ]
  },
  {
   "cell_type": "code",
   "execution_count": 11,
   "id": "b420898d",
   "metadata": {},
   "outputs": [
    {
     "name": "stdout",
     "output_type": "stream",
     "text": [
      "There are 0 Patient IDs in both the training and validation sets\n"
     ]
    }
   ],
   "source": [
    "# Identify patient overlap by looking at the intersection between the sets\n",
    "patient_overlap = list(ids_train_set.intersection(ids_valid_set))\n",
    "n_overlap = len(patient_overlap)\n",
    "print(f'There are {n_overlap} Patient IDs in both the training and validation sets')"
   ]
  },
  {
   "cell_type": "code",
   "execution_count": null,
   "id": "9eb82e13",
   "metadata": {},
   "outputs": [],
   "source": []
  }
 ],
 "metadata": {
  "kernelspec": {
   "display_name": "Python 3",
   "language": "python",
   "name": "python3"
  },
  "language_info": {
   "codemirror_mode": {
    "name": "ipython",
    "version": 3
   },
   "file_extension": ".py",
   "mimetype": "text/x-python",
   "name": "python",
   "nbconvert_exporter": "python",
   "pygments_lexer": "ipython3",
   "version": "3.8.8"
  }
 },
 "nbformat": 4,
 "nbformat_minor": 5
}
